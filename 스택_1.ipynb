{
  "nbformat": 4,
  "nbformat_minor": 0,
  "metadata": {
    "colab": {
      "provenance": []
    },
    "kernelspec": {
      "name": "python3",
      "display_name": "Python 3"
    },
    "language_info": {
      "name": "python"
    }
  },
  "cells": [
    {
      "cell_type": "markdown",
      "source": [
        "스택 선언"
      ],
      "metadata": {
        "id": "GYTskDgjw0LS"
      }
    },
    {
      "cell_type": "code",
      "execution_count": 2,
      "metadata": {
        "colab": {
          "base_uri": "https://localhost:8080/"
        },
        "id": "_tpXMwqdvyWc",
        "outputId": "798534d3-0e9c-4fba-c49d-92f66852550b"
      },
      "outputs": [
        {
          "output_type": "stream",
          "name": "stdout",
          "text": [
            "---스택 상태 ---\n",
            "None\n",
            "꿀물\n",
            "녹차\n",
            "커피\n"
          ]
        }
      ],
      "source": [
        "stack = [None, None, None, None]\n",
        "top = -1"
      ]
    },
    {
      "cell_type": "markdown",
      "source": [
        "스택 추가"
      ],
      "metadata": {
        "id": "qNxWRBUcwxfC"
      }
    },
    {
      "cell_type": "code",
      "source": [
        "\n",
        "top += 1\n",
        "stack[top] = \"커피\"\n",
        "top += 1\n",
        "stack[top] = \"녹차\"\n",
        "top += 1\n",
        "stack[top] = \"꿀물\"\n",
        "\n",
        "print(\"---스택 상태 ---\")\n",
        "for i in range(len(stack)-1, -1, -1):\n",
        "  print(stack[i])"
      ],
      "metadata": {
        "id": "FIat1L68wxow"
      },
      "execution_count": null,
      "outputs": []
    },
    {
      "cell_type": "markdown",
      "source": [
        "스택 삭제"
      ],
      "metadata": {
        "id": "qXagTcbzw24d"
      }
    },
    {
      "cell_type": "code",
      "source": [
        "data = stack[top]\n",
        "stack[top] = None\n",
        "top -1\n",
        "print(\"pop\")\n",
        "\n",
        "print(\"---스택 상태 ---\")\n",
        "for i in range(len(stack)-1, -1, -1):\n",
        "  print(stack[i])"
      ],
      "metadata": {
        "colab": {
          "base_uri": "https://localhost:8080/"
        },
        "id": "UkXIX3eov8FP",
        "outputId": "a676f970-43f2-44e1-ddaf-cf0b7f33944e"
      },
      "execution_count": 3,
      "outputs": [
        {
          "output_type": "stream",
          "name": "stdout",
          "text": [
            "pop\n",
            "---스택 상태 ---\n",
            "None\n",
            "None\n",
            "녹차\n",
            "커피\n"
          ]
        }
      ]
    },
    {
      "cell_type": "markdown",
      "source": [
        "# **스택의 일반 구현**"
      ],
      "metadata": {
        "id": "nuRgBskXw_5k"
      }
    },
    {
      "cell_type": "code",
      "source": [
        "SIZE = 5\n",
        "stack = [None for _ in range(SIZE)]\n",
        "top = -1"
      ],
      "metadata": {
        "id": "8zy2PKtbxRP6"
      },
      "execution_count": 5,
      "outputs": []
    },
    {
      "cell_type": "markdown",
      "source": [
        "스택이 꽉 찼는지 확인하는 함수"
      ],
      "metadata": {
        "id": "8Ye1-dYLx7Cm"
      }
    },
    {
      "cell_type": "code",
      "source": [
        "#스택 overflow 여부\n",
        "\n",
        "def isStackFull():\n",
        "  global SIZE, stack, top\n",
        "  if (top >= SIZE -1):\n",
        "    return True\n",
        "\n",
        "  else:\n",
        "    return False"
      ],
      "metadata": {
        "id": "BpdU3rNzxU8l"
      },
      "execution_count": 6,
      "outputs": []
    },
    {
      "cell_type": "markdown",
      "source": [
        "데이터 push"
      ],
      "metadata": {
        "id": "cJXZaWGpy4Ar"
      }
    },
    {
      "cell_type": "code",
      "source": [
        "def push(data):\n",
        "  global SIZE, stack, top\n",
        "  if (isStackFull()):\n",
        "    print(\"스택이 꽉찼습니다.\")\n",
        "    return\n",
        "  top += 1\n",
        "  stack[top] = data\n",
        "\n",
        "SIZE = 5\n",
        "stack = ['커피','녹차','꿀물','콜라',None]\n",
        "top = 3\n",
        "print(stack)\n",
        "push(\"환타\")\n",
        "print(stack)\n",
        "push(\"생각차\")"
      ],
      "metadata": {
        "colab": {
          "base_uri": "https://localhost:8080/"
        },
        "id": "1rzWa6zex9AS",
        "outputId": "edcf4865-b227-47f2-9e73-1bb7b958f36f"
      },
      "execution_count": 9,
      "outputs": [
        {
          "output_type": "stream",
          "name": "stdout",
          "text": [
            "['커피', '녹차', '꿀물', '콜라', None]\n",
            "['커피', '녹차', '꿀물', '콜라', '환타']\n",
            "스택이 꽉찼습니다.\n"
          ]
        }
      ]
    },
    {
      "cell_type": "markdown",
      "source": [
        "스택이 비었는지 확인하는 함수"
      ],
      "metadata": {
        "id": "SNxWouU4zAsq"
      }
    },
    {
      "cell_type": "code",
      "source": [
        "def isStackEmpty():\n",
        "  global SIZE, stack, top\n",
        "  if(top == -1):\n",
        "    return True\n",
        "  else:\n",
        "    return False"
      ],
      "metadata": {
        "id": "oagpzSt1zADk"
      },
      "execution_count": 11,
      "outputs": []
    },
    {
      "cell_type": "markdown",
      "source": [
        "스택에서 데이터 추출하는 함수"
      ],
      "metadata": {
        "id": "wqtFBbHuzqNy"
      }
    },
    {
      "cell_type": "code",
      "source": [
        "def pop():\n",
        "  global SIZE, stack, top\n",
        "  if(isStackEmpty()):\n",
        "    print(\"스택이 비어있습니다.\")\n",
        "    return None\n",
        "  data = stack[top]\n",
        "  stack[top] = None\n",
        "  top -= 1\n",
        "  return data\n",
        "\n",
        "print(stack)\n",
        "retData = pop()\n",
        "print(\"추출한 데이터:: \", retData)\n",
        "print(stack)"
      ],
      "metadata": {
        "colab": {
          "base_uri": "https://localhost:8080/"
        },
        "id": "S7aFakbCyYvk",
        "outputId": "a8c88278-4d0b-4e37-ee7b-dc797afa579a"
      },
      "execution_count": 14,
      "outputs": [
        {
          "output_type": "stream",
          "name": "stdout",
          "text": [
            "['커피', '녹차', '꿀물', '콜라', '환타']\n",
            "추출한 데이터::  환타\n",
            "['커피', '녹차', '꿀물', '콜라', None]\n"
          ]
        }
      ]
    },
    {
      "cell_type": "markdown",
      "source": [
        "# **스택 응용**"
      ],
      "metadata": {
        "id": "bPLbwzLX0ZWJ"
      }
    },
    {
      "cell_type": "markdown",
      "source": [
        "괄호의 매칭 검사"
      ],
      "metadata": {
        "id": "OlJF9FEs3YuS"
      }
    },
    {
      "cell_type": "code",
      "source": [
        "SIZE = 100\n",
        "stack = [None for _ in range(SIZE)]\n",
        "top = -1\n",
        "\n",
        "def checkBracket(expr):\n",
        "  for ch in expr:\n",
        "    if ch in '({[':\n",
        "      push(ch)\n",
        "    elif ch in ')}]':\n",
        "      out = pop()\n",
        "      if ch == \")\" and out == \"(\":\n",
        "        pass\n",
        "      elif ch == \"}\" and out == \"{}\":\n",
        "        pass\n",
        "      elif ch == \"]\" and out == \"[]\":\n",
        "        pass\n",
        "      else: False\n",
        "    else:\n",
        "      return False\n",
        "\n",
        "expreAry = ['(A+B)',')A+B(','((A+B)-C)', '(A+B']\n",
        "\n",
        "for expr in expreAry:\n",
        "  top = -1\n",
        "  print(expr, '==>', checkBracket(expr))"
      ],
      "metadata": {
        "colab": {
          "base_uri": "https://localhost:8080/"
        },
        "id": "GeuARTlC3uFp",
        "outputId": "a53a55d9-04c5-4347-8cd1-141e5ce58d82"
      },
      "execution_count": 21,
      "outputs": [
        {
          "output_type": "stream",
          "name": "stdout",
          "text": [
            "(A+B) ==> False\n",
            "스택이 비어있습니다.\n",
            ")A+B( ==> False\n",
            "((A+B)-C) ==> False\n",
            "(A+B ==> False\n"
          ]
        }
      ]
    },
    {
      "cell_type": "markdown",
      "source": [],
      "metadata": {
        "id": "SH5q4Gvh4sbQ"
      }
    },
    {
      "cell_type": "code",
      "source": [],
      "metadata": {
        "id": "NRuo27pJ5z4I"
      },
      "execution_count": null,
      "outputs": []
    }
  ]
}