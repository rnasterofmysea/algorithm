{
  "nbformat": 4,
  "nbformat_minor": 0,
  "metadata": {
    "colab": {
      "provenance": []
    },
    "kernelspec": {
      "name": "python3",
      "display_name": "Python 3"
    },
    "language_info": {
      "name": "python"
    }
  },
  "cells": [
    {
      "cell_type": "markdown",
      "source": [
        "1. 숫자 합계 내기"
      ],
      "metadata": {
        "id": "MP9LDdWsMFES"
      }
    },
    {
      "cell_type": "code",
      "source": [
        "sumValue = 0\n",
        "\n",
        "for i in range(10,0, -1):\n",
        "  sumValue += 1\n",
        "\n",
        "print(sumValue)"
      ],
      "metadata": {
        "colab": {
          "base_uri": "https://localhost:8080/"
        },
        "id": "Quj4-rRuML1P",
        "outputId": "6081a4c3-982a-4a43-a632-8bca2f70f87d"
      },
      "execution_count": null,
      "outputs": [
        {
          "output_type": "stream",
          "name": "stdout",
          "text": [
            "10\n"
          ]
        }
      ]
    },
    {
      "cell_type": "code",
      "source": [
        "def add_number(num):\n",
        "  if num <= 1:\n",
        "    return 1\n",
        "  else:\n",
        "    return num + add_number(num -1)\n",
        "\n",
        "\n",
        "print(add_number(10))"
      ],
      "metadata": {
        "colab": {
          "base_uri": "https://localhost:8080/"
        },
        "id": "W9_pYpYnMVwi",
        "outputId": "5dd3fe3f-4f23-4077-c92b-81f43f423f54"
      },
      "execution_count": null,
      "outputs": [
        {
          "output_type": "stream",
          "name": "stdout",
          "text": [
            "55\n"
          ]
        }
      ]
    },
    {
      "cell_type": "markdown",
      "source": [
        "2. 팩토리얼 구하기"
      ],
      "metadata": {
        "id": "P-28gTOcMnt2"
      }
    },
    {
      "cell_type": "code",
      "source": [
        "factValue = 1\n",
        "for n in range(10,0,-1):\n",
        "  factValue *= n\n",
        "print(factValue)"
      ],
      "metadata": {
        "colab": {
          "base_uri": "https://localhost:8080/"
        },
        "id": "pYL2Wh14MzVh",
        "outputId": "1991f912-0b80-4f18-ea8a-a4cbd496cf5a"
      },
      "execution_count": null,
      "outputs": [
        {
          "output_type": "stream",
          "name": "stdout",
          "text": [
            "3628800\n"
          ]
        }
      ]
    },
    {
      "cell_type": "code",
      "source": [
        "faceValue = 5\n",
        "def factorial(num):\n",
        "  if num <= 1:\n",
        "    return 1\n",
        "\n",
        "  else:\n",
        "    return num * factorial(num -1)\n",
        "\n",
        "print(factorial(faceValue))"
      ],
      "metadata": {
        "colab": {
          "base_uri": "https://localhost:8080/"
        },
        "id": "Q5Gtu9vVM-fN",
        "outputId": "48ea58f1-5303-4fef-9598-6804588c5157"
      },
      "execution_count": null,
      "outputs": [
        {
          "output_type": "stream",
          "name": "stdout",
          "text": [
            "120\n"
          ]
        }
      ]
    },
    {
      "cell_type": "markdown",
      "source": [
        "제곱 구하기"
      ],
      "metadata": {
        "id": "Cjhjsh3mPiFT"
      }
    },
    {
      "cell_type": "code",
      "source": [
        "def pow(x,n):\n",
        "  if n == 0:\n",
        "    return 1\n",
        "  return x * pow(x, n-1)\n",
        "\n",
        "print(pow(2,4))"
      ],
      "metadata": {
        "id": "lSQvqo7bOC-F",
        "colab": {
          "base_uri": "https://localhost:8080/"
        },
        "outputId": "21346e35-4e7a-4b72-92ae-6cc826891ebb"
      },
      "execution_count": 3,
      "outputs": [
        {
          "output_type": "stream",
          "name": "stdout",
          "text": [
            "16\n"
          ]
        }
      ]
    },
    {
      "cell_type": "markdown",
      "source": [
        "배열의 합 계산하기"
      ],
      "metadata": {
        "id": "i0MICP74PZD7"
      }
    },
    {
      "cell_type": "code",
      "source": [
        "import random\n",
        "\n",
        "def array_sum(array, length):\n",
        "  if length == 0:\n",
        "    return array[0]\n",
        "  return array_sum(array, length-1) + array[length]\n",
        "\n",
        "array = [random.randint(0,255) for _ in range(random.randint(10,20))]\n",
        "\n",
        "print(array)\n",
        "print(\"배열 합계\", array_sum(array, len(array)-1))"
      ],
      "metadata": {
        "colab": {
          "base_uri": "https://localhost:8080/"
        },
        "id": "fsHqVoyVPl8F",
        "outputId": "2de11c27-4390-4055-d09a-36a9737f048d"
      },
      "execution_count": 5,
      "outputs": [
        {
          "output_type": "stream",
          "name": "stdout",
          "text": [
            "[45, 3, 70, 87, 61, 148, 74, 133, 230, 48, 152, 227]\n",
            "배열 합계 1278\n"
          ]
        }
      ]
    },
    {
      "cell_type": "markdown",
      "source": [
        "## **재귀 호출의 응용**"
      ],
      "metadata": {
        "id": "0wZ1JYfgQoC-"
      }
    },
    {
      "cell_type": "markdown",
      "source": [
        "# 회문 판단하기\n",
        "\n",
        "회문: 앞에서부터 읽든 뒤에서부터 읽든 동일한 단어나 문장"
      ],
      "metadata": {
        "id": "CJd4RincRD2P"
      }
    },
    {
      "cell_type": "code",
      "source": [
        "def palindrome(str):\n",
        "  if len(str)<= 1:\n",
        "    return True\n",
        "\n",
        "  if str[0] != str[-1]:\n",
        "    return False\n",
        "\n",
        "  return palindrome(str[1:len(str)-1])\n",
        "\n",
        "str_list = [\"reaver\", \"kayak\", \"Borrow or rob\", \"주유소의 소유주\", \"회문 아님\", \" 살금살금\"]\n",
        "\n",
        "for s in str_list:\n",
        "  s = s.lower().replace(\" \", \"\")\n",
        "  if palindrome(s):\n",
        "    print( s, \"는 회문입니다\")\n",
        "\n",
        "  else: print(s, \"는 회문이 아닙니다.\")"
      ],
      "metadata": {
        "colab": {
          "base_uri": "https://localhost:8080/"
        },
        "id": "ZJ5spNmtRLB3",
        "outputId": "67653913-c06b-406f-9f1a-aa5bda49fd5c"
      },
      "execution_count": 9,
      "outputs": [
        {
          "output_type": "stream",
          "name": "stdout",
          "text": [
            "reaver 는 회문이 아닙니다.\n",
            "kayak 는 회문입니다\n",
            "borroworrob 는 회문입니다\n",
            "주유소의소유주 는 회문입니다\n",
            "회문아님 는 회문이 아닙니다.\n",
            "살금살금 는 회문이 아닙니다.\n"
          ]
        }
      ]
    },
    {
      "cell_type": "markdown",
      "source": [],
      "metadata": {
        "id": "U18XicQyRmLG"
      }
    },
    {
      "cell_type": "code",
      "source": [],
      "metadata": {
        "id": "SZ_Vn-bESyyj"
      },
      "execution_count": null,
      "outputs": []
    }
  ]
}