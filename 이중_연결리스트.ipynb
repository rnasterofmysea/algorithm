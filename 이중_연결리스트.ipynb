{
  "nbformat": 4,
  "nbformat_minor": 0,
  "metadata": {
    "colab": {
      "provenance": []
    },
    "kernelspec": {
      "name": "python3",
      "display_name": "Python 3"
    },
    "language_info": {
      "name": "python"
    }
  },
  "cells": [
    {
      "cell_type": "code",
      "execution_count": 13,
      "metadata": {
        "colab": {
          "base_uri": "https://localhost:8080/"
        },
        "id": "5ZufitLynXMS",
        "outputId": "f3c74ae6-5fd6-4fea-f27f-599150bc433d"
      },
      "outputs": [
        {
          "output_type": "stream",
          "name": "stdout",
          "text": [
            "정연\n",
            "쯔위\n",
            "사나\n",
            "지효\n",
            "사나\n",
            "쯔위\n",
            "정연\n",
            "다현\n"
          ]
        }
      ],
      "source": [
        "class Node():\n",
        "  def __init__(self):\n",
        "    self.plink = None\n",
        "    self.nlink = None\n",
        "    self.data = None\n",
        "\n",
        "memory = []\n",
        "head, current, pre = None, None, None\n",
        "dataArray = [\"다현\",\"정연\",\"쯔위\",\"사나\",\"지효\"]\n",
        "\n",
        "def printNodes(head):\n",
        "  current = head\n",
        "  if current.nlink == None:\n",
        "    print(\"error\")\n",
        "  while current.nlink != None:\n",
        "    print(current.data)\n",
        "    current = current.nlink\n",
        "  while current.plink != None:\n",
        "    current = current.plink\n",
        "    print(current.data)\n",
        "\n",
        "\n",
        "node = Node()\n",
        "node.data = dataArray[0]\n",
        "node.nlink = node\n",
        "memory.append(node)\n",
        "head = node\n",
        "for d in dataArray[1:]:\n",
        "  pre = node\n",
        "  node = Node()\n",
        "  node.data = d\n",
        "  pre.nlink = node\n",
        "  node.plink = pre\n",
        "  memory.append(node)\n",
        "printNodes(head)\n",
        "\n"
      ]
    },
    {
      "cell_type": "code",
      "source": [],
      "metadata": {
        "id": "3NPSg4L1qmAQ"
      },
      "execution_count": null,
      "outputs": []
    },
    {
      "cell_type": "code",
      "source": [],
      "metadata": {
        "id": "VBPJeBB-qE1D"
      },
      "execution_count": null,
      "outputs": []
    }
  ]
}