{
  "nbformat": 4,
  "nbformat_minor": 0,
  "metadata": {
    "colab": {
      "provenance": []
    },
    "kernelspec": {
      "name": "python3",
      "display_name": "Python 3"
    },
    "language_info": {
      "name": "python"
    }
  },
  "cells": [
    {
      "cell_type": "code",
      "execution_count": 1,
      "metadata": {
        "colab": {
          "base_uri": "https://localhost:8080/"
        },
        "id": "4vSWluugQ3cy",
        "outputId": "8424c50a-9e38-43d2-e607-70cac4136228"
      },
      "outputs": [
        {
          "output_type": "stream",
          "name": "stdout",
          "text": [
            "다현\n",
            "정연\n",
            "쯔위\n",
            "사나\n",
            "지효\n",
            "\n"
          ]
        }
      ],
      "source": [
        "class Node():\n",
        "  def __init__ (self):\n",
        "    self.data = None\n",
        "    self.link = None\n",
        "\n",
        "def printNodes(start):\n",
        "  current = start\n",
        "  if current == None:\n",
        "    return\n",
        "  print(current.data)\n",
        "  while current.link != start:\n",
        "    current = current.link\n",
        "    print(current.data)\n",
        "  print()\n",
        "\n",
        "memory = []\n",
        "head, current, pre = None, None, None\n",
        "dataArray = [\"다현\", \"정연\",\"쯔위\",\"사나\",\"지효\"]\n",
        "\n",
        "\n",
        "if __name__ ==\"__main__\":\n",
        "  node = Node()\n",
        "  node.data = dataArray[0]\n",
        "  head = node\n",
        "  memory.append(node)\n",
        "\n",
        "  for data in dataArray[1:]:\n",
        "    pre = node\n",
        "    node = Node()\n",
        "    node.data = data\n",
        "    pre.link = node\n",
        "    node.link = head\n",
        "    memory.append(node)\n",
        "\n",
        "  printNodes(head)\n"
      ]
    },
    {
      "cell_type": "markdown",
      "source": [
        "첫 번째 노드 삽입"
      ],
      "metadata": {
        "id": "VDlyTQq5Sz5v"
      }
    },
    {
      "cell_type": "code",
      "source": [
        "node = Node()\n",
        "node.data = \"firstNode\"\n",
        "node.link = head\n",
        "\n",
        "last = head\n",
        "\n",
        "while last.link != head:\n",
        "  last = last.link\n",
        "last.link = node\n",
        "head = node\n",
        "\n",
        "printNodes(head)"
      ],
      "metadata": {
        "colab": {
          "base_uri": "https://localhost:8080/"
        },
        "id": "qHFefIhNS14Z",
        "outputId": "cc7663bb-ca11-4bbe-8345-6349705ddc36"
      },
      "execution_count": 2,
      "outputs": [
        {
          "output_type": "stream",
          "name": "stdout",
          "text": [
            "firstNode\n",
            "다현\n",
            "정연\n",
            "쯔위\n",
            "사나\n",
            "지효\n",
            "\n"
          ]
        }
      ]
    },
    {
      "cell_type": "markdown",
      "source": [
        "중간 노드 삽입"
      ],
      "metadata": {
        "id": "UXfDMHPcUhrc"
      }
    },
    {
      "cell_type": "code",
      "source": [
        "current = head\n",
        "\n",
        "while current.link is not head:\n",
        "  pre = current\n",
        "  current = current.link\n",
        "  if current.data == \"사나\":\n",
        "    node = Node()\n",
        "    node.data = \"middleNew\"\n",
        "    node.link = current\n",
        "    pre.link = node\n",
        "\n",
        "printNodes(head)"
      ],
      "metadata": {
        "colab": {
          "base_uri": "https://localhost:8080/"
        },
        "id": "dWG1ItAHT4RC",
        "outputId": "302a3c4e-6d65-47ea-b926-f3d19503754b"
      },
      "execution_count": 3,
      "outputs": [
        {
          "output_type": "stream",
          "name": "stdout",
          "text": [
            "firstNode\n",
            "다현\n",
            "정연\n",
            "쯔위\n",
            "middleNew\n",
            "사나\n",
            "지효\n",
            "\n"
          ]
        }
      ]
    },
    {
      "cell_type": "markdown",
      "source": [
        "마지막 노드 삽입"
      ],
      "metadata": {
        "id": "4Nu2TBYJUny9"
      }
    },
    {
      "cell_type": "code",
      "source": [
        "node = Node()\n",
        "node.data = \"lastData\"\n",
        "current.link = node\n",
        "node.link = head\n",
        "\n",
        "printNodes(head)"
      ],
      "metadata": {
        "colab": {
          "base_uri": "https://localhost:8080/"
        },
        "id": "u1URoRnJUFxW",
        "outputId": "4cafeef6-0008-48ac-e8b0-52b17d2e3ae5"
      },
      "execution_count": 4,
      "outputs": [
        {
          "output_type": "stream",
          "name": "stdout",
          "text": [
            "firstNode\n",
            "다현\n",
            "정연\n",
            "쯔위\n",
            "middleNew\n",
            "사나\n",
            "지효\n",
            "lastData\n",
            "\n"
          ]
        }
      ]
    },
    {
      "cell_type": "markdown",
      "source": [
        "첫 번째 노드 삭제"
      ],
      "metadata": {
        "id": "ptz7CYi7UvbM"
      }
    },
    {
      "cell_type": "code",
      "source": [
        "current = head\n",
        "head = head.link\n",
        "last = head\n",
        "\n",
        "while last.link != current:\n",
        "  last = last.link\n",
        "\n",
        "last.link = current\n",
        "del(current)\n",
        "\n",
        "printNodes(head)"
      ],
      "metadata": {
        "colab": {
          "base_uri": "https://localhost:8080/"
        },
        "id": "wSWv3yPsVWUd",
        "outputId": "3142ad97-cd70-4025-a2c8-0ad4b764f390"
      },
      "execution_count": 5,
      "outputs": [
        {
          "output_type": "stream",
          "name": "stdout",
          "text": [
            "다현\n",
            "정연\n",
            "쯔위\n",
            "middleNew\n",
            "사나\n",
            "지효\n",
            "lastData\n",
            "firstNode\n",
            "\n"
          ]
        }
      ]
    },
    {
      "cell_type": "code",
      "source": [
        "current = head\n",
        "while current.link != head:\n",
        "  pre = current\n",
        "  current = current.link\n",
        "\n",
        "  if current.data == \"지효\":\n",
        "    pre.link = current.link\n",
        "del(current)\n",
        "\n",
        "printNodes(head)"
      ],
      "metadata": {
        "colab": {
          "base_uri": "https://localhost:8080/"
        },
        "id": "HEZQwQhuWMlN",
        "outputId": "d51fba7f-6c46-4a08-9f71-37346f01a799"
      },
      "execution_count": 17,
      "outputs": [
        {
          "output_type": "stream",
          "name": "stdout",
          "text": [
            "다현\n",
            "정연\n",
            "쯔위\n",
            "middleNew\n",
            "사나\n",
            "lastData\n",
            "firstNode\n",
            "\n"
          ]
        }
      ]
    },
    {
      "cell_type": "markdown",
      "source": [
        "# **원형 연결 리스트 응용**"
      ],
      "metadata": {
        "id": "66NyJ9BLZHrS"
      }
    },
    {
      "cell_type": "code",
      "source": [
        "import random\n",
        "\n",
        "dataArray = []\n",
        "for _ in range(7):\n",
        "  dataArray.append(random.randint(1,100))\n",
        "\n",
        "memory = []\n",
        "pre, current, head = None,None,None\n",
        "\n",
        "node = Node()\n",
        "node.data = dataArray[0]\n",
        "node.link = node\n",
        "memory.append(node)\n",
        "\n",
        "head = node\n",
        "\n",
        "for d in dataArray[1:]:\n",
        "  pre = node\n",
        "  node = Node()\n",
        "  node.data = d\n",
        "  pre.link = node\n",
        "  node.link = head\n",
        "  memory.append(node)\n",
        "\n",
        "current = head\n",
        "\n",
        "odd_cnt, even_cnt = 0, 0\n",
        "\n",
        "while current.link != head:\n",
        "\n",
        "  if current.data%2 == 0:\n",
        "    even_cnt += 1\n",
        "  else:\n",
        "    odd_cnt += 1\n",
        "\n",
        "  current = current.link\n",
        "\n",
        "if odd_cnt > even_cnt:\n",
        "  current = head\n",
        "  while current.link != head:\n",
        "    if current.data%2 != 0:\n",
        "      current.data = -current.data\n",
        "    current = current.link\n",
        "\n",
        "else:\n",
        "  current = head\n",
        "  while current.link != head:\n",
        "    if current.data%2 == 0:\n",
        "      current.data = -current.data\n",
        "    current = current.link\n",
        "\n",
        "\n",
        "printNodes(head)"
      ],
      "metadata": {
        "colab": {
          "base_uri": "https://localhost:8080/"
        },
        "id": "QvoqMCaaa9cg",
        "outputId": "84083a45-ace8-4a68-9eb4-0b3c61c81e39"
      },
      "execution_count": 19,
      "outputs": [
        {
          "output_type": "stream",
          "name": "stdout",
          "text": [
            "-88\n",
            "-36\n",
            "-62\n",
            "61\n",
            "23\n",
            "-18\n",
            "21\n",
            "\n"
          ]
        }
      ]
    }
  ]
}