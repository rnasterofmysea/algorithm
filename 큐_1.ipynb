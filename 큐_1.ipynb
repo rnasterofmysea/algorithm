{
  "nbformat": 4,
  "nbformat_minor": 0,
  "metadata": {
    "colab": {
      "provenance": []
    },
    "kernelspec": {
      "name": "python3",
      "display_name": "Python 3"
    },
    "language_info": {
      "name": "python"
    }
  },
  "cells": [
    {
      "cell_type": "markdown",
      "source": [
        "큐 생성"
      ],
      "metadata": {
        "id": "bhoiYvIxI8Ft"
      }
    },
    {
      "cell_type": "code",
      "source": [
        "queue = [None, None, None, None]\n",
        "front = rear = -1"
      ],
      "metadata": {
        "id": "PR22i8P6JSVK"
      },
      "execution_count": null,
      "outputs": []
    },
    {
      "cell_type": "markdown",
      "source": [
        "데이터 삽입: enQueue"
      ],
      "metadata": {
        "id": "M1tWNxM5J9AX"
      }
    },
    {
      "cell_type": "code",
      "source": [
        "queue = [None, None, None, None]\n",
        "front = rear = -1\n",
        "rear += 1\n",
        "queue[rear] = \"화사\"\n",
        "\n",
        "rear += 1\n",
        "queue[rear] = \"솔라\"\n",
        "\n",
        "rear += 1\n",
        "queue[rear] = \"문별\"\n",
        "\n",
        "print(\"<== 출구\", end = \" \")\n",
        "for i in range(0, len(queue), 1):\n",
        "  print(queue[i], end = ' ')\n",
        "\n",
        "print(\"<== 입구\", end = \" \")"
      ],
      "metadata": {
        "colab": {
          "base_uri": "https://localhost:8080/"
        },
        "id": "ExKgX7b9J_7c",
        "outputId": "561a7a61-21b8-4f61-d92f-251823228dab"
      },
      "execution_count": null,
      "outputs": [
        {
          "output_type": "stream",
          "name": "stdout",
          "text": [
            "<== 출구 화사 솔라 문별 None <== 입구 "
          ]
        }
      ]
    },
    {
      "cell_type": "markdown",
      "source": [
        "데이터 추출: deQueue"
      ],
      "metadata": {
        "id": "aapT2Cs9KW6g"
      }
    },
    {
      "cell_type": "code",
      "source": [
        "front += 1\n",
        "data = queue[front]\n",
        "queue[front] = None\n",
        "print('dequeue -->', data)\n",
        "\n",
        "print(\"<== 출구\", end = \" \")\n",
        "for i in range(0, len(queue), 1):\n",
        "  print(queue[i], end = ' ')\n",
        "\n",
        "print(\"<== 입구\", end = \" \")"
      ],
      "metadata": {
        "colab": {
          "base_uri": "https://localhost:8080/"
        },
        "id": "rL7CaK4pK7gb",
        "outputId": "904f6c51-5760-48a3-95f5-64737e8380a9"
      },
      "execution_count": null,
      "outputs": [
        {
          "output_type": "stream",
          "name": "stdout",
          "text": [
            "dequeue --> 화사\n",
            "<== 출구 None 솔라 문별 None <== 입구 "
          ]
        }
      ]
    },
    {
      "cell_type": "markdown",
      "source": [
        "# **큐의 일반 구현**"
      ],
      "metadata": {
        "id": "R6LMduTsLSTE"
      }
    },
    {
      "cell_type": "code",
      "source": [
        "SIZE = 5\n",
        "queue = [None for i in range(SIZE)]\n",
        "front = rear = -1"
      ],
      "metadata": {
        "id": "0r_eoQVRLeBz"
      },
      "execution_count": null,
      "outputs": []
    },
    {
      "cell_type": "markdown",
      "source": [
        "큐가 꽉 찼는지 여부"
      ],
      "metadata": {
        "id": "erGfJzyxMAg8"
      }
    },
    {
      "cell_type": "code",
      "source": [
        "def isQueueFull():\n",
        "  if rear >= SIZE -1 :\n",
        "    return True\n",
        "  else: return False"
      ],
      "metadata": {
        "id": "PN4vQe4CLoad"
      },
      "execution_count": null,
      "outputs": []
    },
    {
      "cell_type": "markdown",
      "source": [
        "enQueue"
      ],
      "metadata": {
        "id": "2mV1kwo8NDI9"
      }
    },
    {
      "cell_type": "code",
      "source": [
        "def enQueue(data):\n",
        "  global SIZE, queue, front, rear\n",
        "  if (isQueueFull()):\n",
        "    print(\"큐가 꽉 찼습니다.\")\n",
        "  rear += 1\n",
        "  queue[rear] = data\n",
        "\n",
        "enQueue(\"newdata\")\n",
        "print(queue)"
      ],
      "metadata": {
        "colab": {
          "base_uri": "https://localhost:8080/"
        },
        "id": "IngDutHeL9nC",
        "outputId": "a01aa896-b19e-4478-f45b-60a436506aa6"
      },
      "execution_count": null,
      "outputs": [
        {
          "output_type": "stream",
          "name": "stdout",
          "text": [
            "['newdata', 'newdata', None, None, None]\n"
          ]
        }
      ]
    },
    {
      "cell_type": "markdown",
      "source": [
        "큐가 비어있는지 여부"
      ],
      "metadata": {
        "id": "EhLYqqs4M8xT"
      }
    },
    {
      "cell_type": "code",
      "source": [
        "def isQueueEmpty():\n",
        "  global SIZE, queue, front, rear\n",
        "  if rear == front:\n",
        "    return True\n",
        "  else: False"
      ],
      "metadata": {
        "id": "0RZOaogcNIdb"
      },
      "execution_count": null,
      "outputs": []
    },
    {
      "cell_type": "markdown",
      "source": [
        "deQueue"
      ],
      "metadata": {
        "id": "XmNDHFN_NYCJ"
      }
    },
    {
      "cell_type": "code",
      "source": [
        "def deQueue():\n",
        "  global SIZE, queue, front, rear\n",
        "\n",
        "  if(isQueueEmpty()):\n",
        "    print(\"큐가 비어있습니다.\")\n",
        "    return\n",
        "\n",
        "  front += 1\n",
        "  data = queue[front]\n",
        "  queue[front] = None\n",
        "  print(\"꺼낸 데이터==>>\", data)\n",
        "\n",
        "deQueue()"
      ],
      "metadata": {
        "colab": {
          "base_uri": "https://localhost:8080/"
        },
        "id": "ddGH_Ks4NkcC",
        "outputId": "86559e5e-31ef-453c-be50-cd5235e0298c"
      },
      "execution_count": null,
      "outputs": [
        {
          "output_type": "stream",
          "name": "stdout",
          "text": [
            "꺼낸 데이터==>> newdata\n"
          ]
        }
      ]
    },
    {
      "cell_type": "markdown",
      "source": [
        "# **원형 큐**"
      ],
      "metadata": {
        "id": "ckcEyVqROFGL"
      }
    },
    {
      "cell_type": "code",
      "source": [
        "원형큐 = [None,None,None,None,None]\n",
        "front = rear = 0"
      ],
      "metadata": {
        "id": "H8a50k7kQH4T"
      },
      "execution_count": null,
      "outputs": []
    },
    {
      "cell_type": "markdown",
      "source": [
        "원형 큐가 빈 경우와 꽉 찬 경우"
      ],
      "metadata": {
        "id": "DJd1sUTsOamS"
      }
    },
    {
      "cell_type": "code",
      "source": [
        "# 큐가 빈 경우\n",
        "def isCQueueEmpty():\n",
        "  global SIZE, c_queue, front, rear\n",
        "  if (front == rear):\n",
        "    return True\n",
        "  else: False\n",
        "\n",
        "# 큐가 꽉 찬 경우\n",
        "def isCQueueFull():\n",
        "  global SIZE, c_queue, front, rear\n",
        "  if ((rear +1) % 5 == front):\n",
        "    return True\n",
        "  else: False\n"
      ],
      "metadata": {
        "id": "hAUFJmKyQLcK"
      },
      "execution_count": null,
      "outputs": []
    },
    {
      "cell_type": "markdown",
      "source": [
        "원형 큐 데이터 삽입"
      ],
      "metadata": {
        "id": "4X_7Sp6pQ1M6"
      }
    },
    {
      "cell_type": "code",
      "source": [
        "def enCQueue(data):\n",
        "  global SIZE, c_queue, front, rear\n",
        "  if(isCQueueFull()):\n",
        "    print(\"큐가 꽉 찼습니다\")\n",
        "\n",
        "  rear = (rear + 1) % SIZE\n",
        "  c_queue[rear] = data"
      ],
      "metadata": {
        "id": "5kCeXE1bR3Mk"
      },
      "execution_count": null,
      "outputs": []
    },
    {
      "cell_type": "markdown",
      "source": [
        "원형 큐 데이터 삭제"
      ],
      "metadata": {
        "id": "_zHcLcoaSWjU"
      }
    },
    {
      "cell_type": "code",
      "source": [
        "def deCQueue():\n",
        "  global SIZE, c_queue, front, rear\n",
        "  if(isQueueEmpty()):\n",
        "    print(\"큐가 비었습니다.\")\n",
        "    return None\n",
        "\n",
        "  front = (front+1) % SIZE\n",
        "  data = queue[front]\n",
        "  queue[front] = None\n",
        "  return data\n"
      ],
      "metadata": {
        "id": "HbL4rt2JSetB"
      },
      "execution_count": null,
      "outputs": []
    },
    {
      "cell_type": "markdown",
      "source": [
        "원형 큐 추출"
      ],
      "metadata": {
        "id": "JOg4ntLjTU8Q"
      }
    },
    {
      "cell_type": "code",
      "source": [
        "def peek():\n",
        "  global SIZE, c_queue, front, rear\n",
        "  if(isQueueEmpty()):\n",
        "    print(\"큐가 비었습니다.\")\n",
        "    return None\n",
        "  return queue[(front+1)%SIZE]\n"
      ],
      "metadata": {
        "id": "sdnbmPBYTXXB"
      },
      "execution_count": null,
      "outputs": []
    }
  ]
}