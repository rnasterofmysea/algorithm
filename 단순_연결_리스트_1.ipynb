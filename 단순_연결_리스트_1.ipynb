{
  "nbformat": 4,
  "nbformat_minor": 0,
  "metadata": {
    "colab": {
      "provenance": []
    },
    "kernelspec": {
      "name": "python3",
      "display_name": "Python 3"
    },
    "language_info": {
      "name": "python"
    }
  },
  "cells": [
    {
      "cell_type": "code",
      "execution_count": 1,
      "metadata": {
        "id": "mMdEAQy07_FQ"
      },
      "outputs": [],
      "source": [
        "class Node():\n",
        "  def __init__(self):\n",
        "    self.data = None\n",
        "    self.link = None"
      ]
    },
    {
      "cell_type": "markdown",
      "source": [
        "노드 생성 및 연결"
      ],
      "metadata": {
        "id": "GNiHZfNP8K2A"
      }
    },
    {
      "cell_type": "code",
      "source": [
        "node1 = Node()\n",
        "node1.data = \"국어\"\n",
        "\n",
        "node2 = Node()\n",
        "node2.data = \"수학\"\n",
        "node1.link = node2\n",
        "\n",
        "node3 = Node()\n",
        "node3.data = \"영어\"\n",
        "node2.link = node3"
      ],
      "metadata": {
        "id": "itew4V7V8XCG"
      },
      "execution_count": 3,
      "outputs": []
    },
    {
      "cell_type": "code",
      "source": [
        "# 연결 리스트 출력\n",
        "current = node1\n",
        "print(current.data)\n",
        "while (current.link != None):\n",
        "  current = current.link\n",
        "  print(current.data)"
      ],
      "metadata": {
        "colab": {
          "base_uri": "https://localhost:8080/"
        },
        "id": "XEpc90qC8vHC",
        "outputId": "cb449b44-ea98-4737-99d7-1afced307bb5"
      },
      "execution_count": 5,
      "outputs": [
        {
          "output_type": "stream",
          "name": "stdout",
          "text": [
            "국어\n",
            "수학\n",
            "영어\n"
          ]
        }
      ]
    },
    {
      "cell_type": "code",
      "source": [
        "# 노드 삽입\n",
        "newNode = Node()\n",
        "newNode.data =\"newSub\"\n",
        "newNode.link = node2.link\n",
        "node2.link = newNode\n",
        "\n",
        "# 연결 리스트 출력\n",
        "current = node1\n",
        "print(current.data)\n",
        "while (current.link != None):\n",
        "  current = current.link\n",
        "  print(current.data)"
      ],
      "metadata": {
        "colab": {
          "base_uri": "https://localhost:8080/"
        },
        "id": "CiuJHmv_9R6b",
        "outputId": "b91ab2e9-9e55-4d0f-d053-750fa98008d3"
      },
      "execution_count": 6,
      "outputs": [
        {
          "output_type": "stream",
          "name": "stdout",
          "text": [
            "국어\n",
            "수학\n",
            "newSub\n",
            "영어\n"
          ]
        }
      ]
    },
    {
      "cell_type": "code",
      "source": [
        "#노드 삭제\n",
        "\n",
        "node1.link = node2.link\n",
        "del(node2)\n",
        "# 연결 리스트 출력\n",
        "current = node1\n",
        "print(current.data)\n",
        "while (current.link != None):\n",
        "  current = current.link\n",
        "  print(current.data)"
      ],
      "metadata": {
        "colab": {
          "base_uri": "https://localhost:8080/"
        },
        "id": "nlpTxAHzIAtY",
        "outputId": "665f6454-78e1-492e-9340-bd366d938e8e"
      },
      "execution_count": 7,
      "outputs": [
        {
          "output_type": "stream",
          "name": "stdout",
          "text": [
            "국어\n",
            "newSub\n",
            "영어\n"
          ]
        }
      ]
    },
    {
      "cell_type": "markdown",
      "source": [
        "단순 연결 리스트의 일반 구현"
      ],
      "metadata": {
        "id": "1ea_W69TIKVn"
      }
    },
    {
      "cell_type": "code",
      "source": [
        "memory = []\n",
        "head, current, pre = None, None, None"
      ],
      "metadata": {
        "id": "MFq3hTtJITYV"
      },
      "execution_count": 8,
      "outputs": []
    },
    {
      "cell_type": "code",
      "source": [
        "node = Node()\n",
        "node.data = \"국어\"\n",
        "head = node\n",
        "memory.append(node)\n"
      ],
      "metadata": {
        "id": "feK1WJJnIXzj"
      },
      "execution_count": 9,
      "outputs": []
    },
    {
      "cell_type": "code",
      "source": [
        "class Node():\n",
        "  def __init__ (self):\n",
        "    self.data = None\n",
        "    self.link = None\n",
        "\n",
        "def printNodes(start):\n",
        "  current = start\n",
        "  if current == None:\n",
        "    return\n",
        "  print(current.data)\n",
        "  while current.link != None:\n",
        "    current = current.link\n",
        "    print(current.data)\n",
        "  print()\n",
        "\n",
        "memory = []\n",
        "head, current, pre = None, None, None\n",
        "dataArray = [\"다현\", \"정연\",\"쯔위\",\"사나\",\"지효\"]\n",
        "\n",
        "\n",
        "if __name__ ==\"__main__\":\n",
        "  node = Node()\n",
        "  node.data = dataArray[0]\n",
        "  head = node\n",
        "  memory.append(node)\n",
        "\n",
        "  for data in dataArray[1:]:\n",
        "    pre = node\n",
        "    node = Node()\n",
        "    node.data = data\n",
        "    pre.link = node\n",
        "    memory.append(node)\n",
        "\n",
        "  printNodes(head)\n",
        ""
      ],
      "metadata": {
        "colab": {
          "base_uri": "https://localhost:8080/"
        },
        "id": "kVCrHl9_Iwty",
        "outputId": "7c2ef361-192e-4a7d-e6db-8018e1849a19"
      },
      "execution_count": 11,
      "outputs": [
        {
          "output_type": "stream",
          "name": "stdout",
          "text": [
            "다현\n",
            "정연\n",
            "쯔위\n",
            "사나\n",
            "지효\n",
            "\n"
          ]
        }
      ]
    },
    {
      "cell_type": "markdown",
      "source": [
        "첫 노드 삽입"
      ],
      "metadata": {
        "id": "1I1Lc59ILPgW"
      }
    },
    {
      "cell_type": "code",
      "source": [
        "node = Node()\n",
        "node.data = \"New\"\n",
        "node.link = head.link\n",
        "head = node\n",
        "\n",
        "printNodes(head)"
      ],
      "metadata": {
        "colab": {
          "base_uri": "https://localhost:8080/"
        },
        "id": "OP1lOAPTKtCS",
        "outputId": "d43b237e-03f2-407c-d728-c9d76c1b8938"
      },
      "execution_count": 13,
      "outputs": [
        {
          "output_type": "stream",
          "name": "stdout",
          "text": [
            "New\n",
            "정연\n",
            "쯔위\n",
            "사나\n",
            "지효\n",
            "\n"
          ]
        }
      ]
    },
    {
      "cell_type": "markdown",
      "source": [
        "중간 노드 삽입"
      ],
      "metadata": {
        "id": "K7z428qdLRjJ"
      }
    },
    {
      "cell_type": "code",
      "source": [
        "current = head\n",
        "\n",
        "while current.link is not None:\n",
        "  pre = current\n",
        "  current = current.link\n",
        "  if current.data == \"사나\":\n",
        "    node = Node()\n",
        "    node.data = \"middleNew\"\n",
        "    node.link = current\n",
        "    pre.link = node\n",
        "\n",
        "printNodes(head)"
      ],
      "metadata": {
        "colab": {
          "base_uri": "https://localhost:8080/"
        },
        "id": "dp3Ez_9YLSOq",
        "outputId": "c0f12b00-d505-443b-8179-df77189ede46"
      },
      "execution_count": 18,
      "outputs": [
        {
          "output_type": "stream",
          "name": "stdout",
          "text": [
            "New\n",
            "정연\n",
            "쯔위\n",
            "middleNew\n",
            "사나\n",
            "지효\n",
            "\n"
          ]
        }
      ]
    },
    {
      "cell_type": "markdown",
      "source": [
        "마지막 노드 삽입"
      ],
      "metadata": {
        "id": "fRNEJFP3NYUY"
      }
    },
    {
      "cell_type": "code",
      "source": [
        "node = Node()\n",
        "node.data = \"endNew\"\n",
        "current.link = node\n",
        "\n",
        "printNodes(head)"
      ],
      "metadata": {
        "colab": {
          "base_uri": "https://localhost:8080/"
        },
        "id": "d3uaK4aEO4aM",
        "outputId": "5649d3b4-87cf-4af5-d52c-f5531ca02618"
      },
      "execution_count": 19,
      "outputs": [
        {
          "output_type": "stream",
          "name": "stdout",
          "text": [
            "New\n",
            "정연\n",
            "쯔위\n",
            "middleNew\n",
            "사나\n",
            "지효\n",
            "endNew\n",
            "\n"
          ]
        }
      ]
    },
    {
      "cell_type": "markdown",
      "source": [
        "첫번째 노드 삭제"
      ],
      "metadata": {
        "id": "uO96WuICO_6X"
      }
    },
    {
      "cell_type": "code",
      "source": [
        "current = head\n",
        "head = head.link\n",
        "del(current)\n",
        "\n",
        "printNodes(head)"
      ],
      "metadata": {
        "colab": {
          "base_uri": "https://localhost:8080/"
        },
        "id": "2g-HJzgSPFgQ",
        "outputId": "a503f378-b590-4ee5-aea4-4b7d279efcca"
      },
      "execution_count": 20,
      "outputs": [
        {
          "output_type": "stream",
          "name": "stdout",
          "text": [
            "정연\n",
            "쯔위\n",
            "middleNew\n",
            "사나\n",
            "지효\n",
            "endNew\n",
            "\n"
          ]
        }
      ]
    },
    {
      "cell_type": "markdown",
      "source": [
        "중간 노드 삭제"
      ],
      "metadata": {
        "id": "fNZ1McYQRfIX"
      }
    },
    {
      "cell_type": "code",
      "source": [
        "current = head\n",
        "\n",
        "while current.link is not None:\n",
        "  pre = current\n",
        "  current = current.link\n",
        "  if current.data == \"middleNew\":\n",
        "    pre.link = current.link\n",
        "    del(current)\n",
        "\n",
        "printNodes(head)\n"
      ],
      "metadata": {
        "colab": {
          "base_uri": "https://localhost:8080/"
        },
        "id": "LJdUEWMxPUL5",
        "outputId": "b518a162-103b-4caa-92a7-8b20af352935"
      },
      "execution_count": 23,
      "outputs": [
        {
          "output_type": "stream",
          "name": "stdout",
          "text": [
            "정연\n",
            "쯔위\n",
            "사나\n",
            "지효\n",
            "endNew\n",
            "\n"
          ]
        }
      ]
    },
    {
      "cell_type": "markdown",
      "source": [
        "마지막 노드 삭제"
      ],
      "metadata": {
        "id": "MhnDdh6KP9CV"
      }
    },
    {
      "cell_type": "code",
      "source": [
        "current = head\n",
        "\n",
        "while current.link is not None:\n",
        "  pre = current\n",
        "  current = current.link\n",
        "  if current.link == None:\n",
        "    pre.link = None\n",
        "    del(current)\n",
        "    break\n",
        "\n",
        "printNodes(head)"
      ],
      "metadata": {
        "colab": {
          "base_uri": "https://localhost:8080/"
        },
        "id": "sCxiRlJ7RnsD",
        "outputId": "f28d9552-f81e-4bde-c634-95a294a0ff71"
      },
      "execution_count": 25,
      "outputs": [
        {
          "output_type": "stream",
          "name": "stdout",
          "text": [
            "정연\n",
            "쯔위\n",
            "사나\n",
            "\n"
          ]
        }
      ]
    },
    {
      "cell_type": "markdown",
      "source": [
        "연습문제"
      ],
      "metadata": {
        "id": "OSYxlATzURUW"
      }
    },
    {
      "cell_type": "code",
      "source": [
        "class Node():\n",
        "  def __init__(self):\n",
        "    self.data = None\n",
        "    self.link = None\n",
        "\n",
        "def makeSimpleLinked(nameEmail):\n",
        "  global memory, head, current, pre\n",
        "  node = Node()\n",
        "  node.data = nameEmail\n",
        "  memory.append(node)\n",
        "\n",
        "  if head == None:\n",
        "    head = node\n",
        "    return\n",
        "\n",
        "  if head.data[1] > node.data[1]:\n",
        "    node.link = head\n",
        "    head = node\n",
        "    return\n",
        "\n",
        "  else:\n",
        "    current = head\n",
        "    while current.link is not None:\n",
        "      pre = current\n",
        "      current = current.link\n",
        "      if node.data[1] < current.data[1]:\n",
        "        node.link = current.link\n",
        "        current.link = node\n",
        "        return\n",
        "    current.link = node\n",
        "\n",
        "\n",
        "\n",
        "\n",
        "def printNodes(start):\n",
        "  current = start\n",
        "  if current == None:\n",
        "    print(\"비어있음\")\n",
        "    return\n",
        "  print(current.data)\n",
        "  while current.link is not None:\n",
        "    current = current.link\n",
        "    print(current.data)\n",
        "\n",
        "memory = []\n",
        "head, current, pre = None, None, None\n",
        "\n",
        "if __name__ == \"__main__\":\n",
        "  while True:\n",
        "    name = input(\"이름을 입력해주세요 :: \")\n",
        "    email = input(\"이메일을 입력해주세요 :: \")\n",
        "    makeSimpleLinked([name, email])\n",
        "    printNodes(head)"
      ],
      "metadata": {
        "colab": {
          "base_uri": "https://localhost:8080/",
          "height": 652
        },
        "id": "2MXe8RHlUQyL",
        "outputId": "ff02ffdb-17bf-45a0-933b-2316573f8227"
      },
      "execution_count": 28,
      "outputs": [
        {
          "output_type": "stream",
          "name": "stdout",
          "text": [
            "이름을 입력해주세요 :: a\n",
            "이메일을 입력해주세요 :: asdf@naver.com\n",
            "['a', 'asdf@naver.com']\n",
            "이름을 입력해주세요 :: b\n",
            "이메일을 입력해주세요 :: rlaeogus@naver.com\n",
            "['a', 'asdf@naver.com']\n",
            "['b', 'rlaeogus@naver.com']\n",
            "이름을 입력해주세요 :: c\n",
            "이메일을 입력해주세요 :: a@nv.com\n",
            "['c', 'a@nv.com']\n",
            "['a', 'asdf@naver.com']\n",
            "['b', 'rlaeogus@naver.com']\n"
          ]
        },
        {
          "output_type": "error",
          "ename": "KeyboardInterrupt",
          "evalue": "ignored",
          "traceback": [
            "\u001b[0;31m---------------------------------------------------------------------------\u001b[0m",
            "\u001b[0;31mKeyboardInterrupt\u001b[0m                         Traceback (most recent call last)",
            "\u001b[0;32m<ipython-input-28-8e05954d2f2e>\u001b[0m in \u001b[0;36m<cell line: 48>\u001b[0;34m()\u001b[0m\n\u001b[1;32m     48\u001b[0m \u001b[0;32mif\u001b[0m \u001b[0m__name__\u001b[0m \u001b[0;34m==\u001b[0m \u001b[0;34m\"__main__\"\u001b[0m\u001b[0;34m:\u001b[0m\u001b[0;34m\u001b[0m\u001b[0;34m\u001b[0m\u001b[0m\n\u001b[1;32m     49\u001b[0m   \u001b[0;32mwhile\u001b[0m \u001b[0;32mTrue\u001b[0m\u001b[0;34m:\u001b[0m\u001b[0;34m\u001b[0m\u001b[0;34m\u001b[0m\u001b[0m\n\u001b[0;32m---> 50\u001b[0;31m     \u001b[0mname\u001b[0m \u001b[0;34m=\u001b[0m \u001b[0minput\u001b[0m\u001b[0;34m(\u001b[0m\u001b[0;34m\"이름을 입력해주세요 :: \"\u001b[0m\u001b[0;34m)\u001b[0m\u001b[0;34m\u001b[0m\u001b[0;34m\u001b[0m\u001b[0m\n\u001b[0m\u001b[1;32m     51\u001b[0m     \u001b[0memail\u001b[0m \u001b[0;34m=\u001b[0m \u001b[0minput\u001b[0m\u001b[0;34m(\u001b[0m\u001b[0;34m\"이메일을 입력해주세요 :: \"\u001b[0m\u001b[0;34m)\u001b[0m\u001b[0;34m\u001b[0m\u001b[0;34m\u001b[0m\u001b[0m\n\u001b[1;32m     52\u001b[0m     \u001b[0mmakeSimpleLinked\u001b[0m\u001b[0;34m(\u001b[0m\u001b[0;34m[\u001b[0m\u001b[0mname\u001b[0m\u001b[0;34m,\u001b[0m \u001b[0memail\u001b[0m\u001b[0;34m]\u001b[0m\u001b[0;34m)\u001b[0m\u001b[0;34m\u001b[0m\u001b[0;34m\u001b[0m\u001b[0m\n",
            "\u001b[0;32m/usr/local/lib/python3.10/dist-packages/ipykernel/kernelbase.py\u001b[0m in \u001b[0;36mraw_input\u001b[0;34m(self, prompt)\u001b[0m\n\u001b[1;32m    849\u001b[0m                 \u001b[0;34m\"raw_input was called, but this frontend does not support input requests.\"\u001b[0m\u001b[0;34m\u001b[0m\u001b[0;34m\u001b[0m\u001b[0m\n\u001b[1;32m    850\u001b[0m             )\n\u001b[0;32m--> 851\u001b[0;31m         return self._input_request(str(prompt),\n\u001b[0m\u001b[1;32m    852\u001b[0m             \u001b[0mself\u001b[0m\u001b[0;34m.\u001b[0m\u001b[0m_parent_ident\u001b[0m\u001b[0;34m,\u001b[0m\u001b[0;34m\u001b[0m\u001b[0;34m\u001b[0m\u001b[0m\n\u001b[1;32m    853\u001b[0m             \u001b[0mself\u001b[0m\u001b[0;34m.\u001b[0m\u001b[0m_parent_header\u001b[0m\u001b[0;34m,\u001b[0m\u001b[0;34m\u001b[0m\u001b[0;34m\u001b[0m\u001b[0m\n",
            "\u001b[0;32m/usr/local/lib/python3.10/dist-packages/ipykernel/kernelbase.py\u001b[0m in \u001b[0;36m_input_request\u001b[0;34m(self, prompt, ident, parent, password)\u001b[0m\n\u001b[1;32m    893\u001b[0m             \u001b[0;32mexcept\u001b[0m \u001b[0mKeyboardInterrupt\u001b[0m\u001b[0;34m:\u001b[0m\u001b[0;34m\u001b[0m\u001b[0;34m\u001b[0m\u001b[0m\n\u001b[1;32m    894\u001b[0m                 \u001b[0;31m# re-raise KeyboardInterrupt, to truncate traceback\u001b[0m\u001b[0;34m\u001b[0m\u001b[0;34m\u001b[0m\u001b[0m\n\u001b[0;32m--> 895\u001b[0;31m                 \u001b[0;32mraise\u001b[0m \u001b[0mKeyboardInterrupt\u001b[0m\u001b[0;34m(\u001b[0m\u001b[0;34m\"Interrupted by user\"\u001b[0m\u001b[0;34m)\u001b[0m \u001b[0;32mfrom\u001b[0m \u001b[0;32mNone\u001b[0m\u001b[0;34m\u001b[0m\u001b[0;34m\u001b[0m\u001b[0m\n\u001b[0m\u001b[1;32m    896\u001b[0m             \u001b[0;32mexcept\u001b[0m \u001b[0mException\u001b[0m \u001b[0;32mas\u001b[0m \u001b[0me\u001b[0m\u001b[0;34m:\u001b[0m\u001b[0;34m\u001b[0m\u001b[0;34m\u001b[0m\u001b[0m\n\u001b[1;32m    897\u001b[0m                 \u001b[0mself\u001b[0m\u001b[0;34m.\u001b[0m\u001b[0mlog\u001b[0m\u001b[0;34m.\u001b[0m\u001b[0mwarning\u001b[0m\u001b[0;34m(\u001b[0m\u001b[0;34m\"Invalid Message:\"\u001b[0m\u001b[0;34m,\u001b[0m \u001b[0mexc_info\u001b[0m\u001b[0;34m=\u001b[0m\u001b[0;32mTrue\u001b[0m\u001b[0;34m)\u001b[0m\u001b[0;34m\u001b[0m\u001b[0;34m\u001b[0m\u001b[0m\n",
            "\u001b[0;31mKeyboardInterrupt\u001b[0m: Interrupted by user"
          ]
        }
      ]
    },
    {
      "cell_type": "code",
      "source": [],
      "metadata": {
        "id": "yMcM4pWPUd8I"
      },
      "execution_count": null,
      "outputs": []
    }
  ]
}